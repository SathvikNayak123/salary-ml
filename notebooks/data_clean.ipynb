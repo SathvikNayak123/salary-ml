{
 "cells": [
  {
   "cell_type": "code",
   "execution_count": 476,
   "metadata": {},
   "outputs": [],
   "source": [
    "import pandas as pd\n",
    "import numpy as np"
   ]
  },
  {
   "cell_type": "code",
   "execution_count": 477,
   "metadata": {},
   "outputs": [
    {
     "data": {
      "text/html": [
       "<div>\n",
       "<style scoped>\n",
       "    .dataframe tbody tr th:only-of-type {\n",
       "        vertical-align: middle;\n",
       "    }\n",
       "\n",
       "    .dataframe tbody tr th {\n",
       "        vertical-align: top;\n",
       "    }\n",
       "\n",
       "    .dataframe thead th {\n",
       "        text-align: right;\n",
       "    }\n",
       "</style>\n",
       "<table border=\"1\" class=\"dataframe\">\n",
       "  <thead>\n",
       "    <tr style=\"text-align: right;\">\n",
       "      <th></th>\n",
       "      <th>Job Title</th>\n",
       "      <th>Salary Estimate</th>\n",
       "      <th>Job Description</th>\n",
       "      <th>Rating</th>\n",
       "      <th>Company Name</th>\n",
       "      <th>Location</th>\n",
       "      <th>Size</th>\n",
       "      <th>Founded</th>\n",
       "      <th>Type of ownership</th>\n",
       "      <th>Industry</th>\n",
       "      <th>Sector</th>\n",
       "      <th>Revenue</th>\n",
       "    </tr>\n",
       "  </thead>\n",
       "  <tbody>\n",
       "    <tr>\n",
       "      <th>0</th>\n",
       "      <td>Manager Data Scientist</td>\n",
       "      <td>NaN</td>\n",
       "      <td>We are seeking a highly skilled and experience...</td>\n",
       "      <td>NaN</td>\n",
       "      <td>Optum</td>\n",
       "      <td>Bengaluru</td>\n",
       "      <td>NaN</td>\n",
       "      <td>NaN</td>\n",
       "      <td>NaN</td>\n",
       "      <td>NaN</td>\n",
       "      <td>NaN</td>\n",
       "      <td>NaN</td>\n",
       "    </tr>\n",
       "    <tr>\n",
       "      <th>1</th>\n",
       "      <td>Lead Data Scientist, India - BCG X</td>\n",
       "      <td>₹6L – ₹9L/yr (Glassdoor est.)</td>\n",
       "      <td>Locations: Mumbai | Gurgaon\\nWho We Are\\nBosto...</td>\n",
       "      <td>4.2</td>\n",
       "      <td>Boston Consulting Group</td>\n",
       "      <td>Gurgaon</td>\n",
       "      <td>10000+ Employees</td>\n",
       "      <td>1963</td>\n",
       "      <td>Company - Private</td>\n",
       "      <td>Business consulting</td>\n",
       "      <td>Management and consulting</td>\n",
       "      <td>$5 to $10 billion (USD)</td>\n",
       "    </tr>\n",
       "    <tr>\n",
       "      <th>2</th>\n",
       "      <td>Global Data Scientist Senior Manager</td>\n",
       "      <td>NaN</td>\n",
       "      <td>WHAT YOU'LL DO\\n\\nAs part of the Digital produ...</td>\n",
       "      <td>4.2</td>\n",
       "      <td>Boston Consulting Group</td>\n",
       "      <td>Delhi</td>\n",
       "      <td>10000+ Employees</td>\n",
       "      <td>1963</td>\n",
       "      <td>Company - Private</td>\n",
       "      <td>Business consulting</td>\n",
       "      <td>Management and consulting</td>\n",
       "      <td>$5 to $10 billion (USD)</td>\n",
       "    </tr>\n",
       "    <tr>\n",
       "      <th>3</th>\n",
       "      <td>Sr AI/ML Engineer</td>\n",
       "      <td>NaN</td>\n",
       "      <td>OptumAI is looking for a Senior Machine Learni...</td>\n",
       "      <td>NaN</td>\n",
       "      <td>Optum</td>\n",
       "      <td>Haryāna</td>\n",
       "      <td>NaN</td>\n",
       "      <td>NaN</td>\n",
       "      <td>NaN</td>\n",
       "      <td>NaN</td>\n",
       "      <td>NaN</td>\n",
       "      <td>NaN</td>\n",
       "    </tr>\n",
       "    <tr>\n",
       "      <th>4</th>\n",
       "      <td>Principal AI or ML Engineer</td>\n",
       "      <td>NaN</td>\n",
       "      <td>As the Principal AI/ML Engineer, you will be r...</td>\n",
       "      <td>NaN</td>\n",
       "      <td>Optum</td>\n",
       "      <td>India</td>\n",
       "      <td>NaN</td>\n",
       "      <td>NaN</td>\n",
       "      <td>NaN</td>\n",
       "      <td>NaN</td>\n",
       "      <td>NaN</td>\n",
       "      <td>NaN</td>\n",
       "    </tr>\n",
       "  </tbody>\n",
       "</table>\n",
       "</div>"
      ],
      "text/plain": [
       "                              Job Title                Salary Estimate  \\\n",
       "0                Manager Data Scientist                            NaN   \n",
       "1    Lead Data Scientist, India - BCG X  ₹6L – ₹9L/yr (Glassdoor est.)   \n",
       "2  Global Data Scientist Senior Manager                            NaN   \n",
       "3                     Sr AI/ML Engineer                            NaN   \n",
       "4           Principal AI or ML Engineer                            NaN   \n",
       "\n",
       "                                     Job Description  Rating  \\\n",
       "0  We are seeking a highly skilled and experience...     NaN   \n",
       "1  Locations: Mumbai | Gurgaon\\nWho We Are\\nBosto...     4.2   \n",
       "2  WHAT YOU'LL DO\\n\\nAs part of the Digital produ...     4.2   \n",
       "3  OptumAI is looking for a Senior Machine Learni...     NaN   \n",
       "4  As the Principal AI/ML Engineer, you will be r...     NaN   \n",
       "\n",
       "              Company Name   Location              Size Founded  \\\n",
       "0                    Optum  Bengaluru               NaN     NaN   \n",
       "1  Boston Consulting Group    Gurgaon  10000+ Employees    1963   \n",
       "2  Boston Consulting Group      Delhi  10000+ Employees    1963   \n",
       "3                    Optum    Haryāna               NaN     NaN   \n",
       "4                    Optum      India               NaN     NaN   \n",
       "\n",
       "   Type of ownership             Industry                     Sector  \\\n",
       "0                NaN                  NaN                        NaN   \n",
       "1  Company - Private  Business consulting  Management and consulting   \n",
       "2  Company - Private  Business consulting  Management and consulting   \n",
       "3                NaN                  NaN                        NaN   \n",
       "4                NaN                  NaN                        NaN   \n",
       "\n",
       "                   Revenue  \n",
       "0                      NaN  \n",
       "1  $5 to $10 billion (USD)  \n",
       "2  $5 to $10 billion (USD)  \n",
       "3                      NaN  \n",
       "4                      NaN  "
      ]
     },
     "execution_count": 477,
     "metadata": {},
     "output_type": "execute_result"
    }
   ],
   "source": [
    "df=pd.read_csv('../artifacts/glassdoor_jobs.csv')\n",
    "df.head()"
   ]
  },
  {
   "cell_type": "code",
   "execution_count": 478,
   "metadata": {},
   "outputs": [
    {
     "data": {
      "text/plain": [
       "Job Title             object\n",
       "Salary Estimate       object\n",
       "Job Description       object\n",
       "Rating               float64\n",
       "Company Name          object\n",
       "Location              object\n",
       "Size                  object\n",
       "Founded               object\n",
       "Type of ownership     object\n",
       "Industry              object\n",
       "Sector                object\n",
       "Revenue               object\n",
       "dtype: object"
      ]
     },
     "execution_count": 478,
     "metadata": {},
     "output_type": "execute_result"
    }
   ],
   "source": [
    "df.dtypes"
   ]
  },
  {
   "cell_type": "code",
   "execution_count": 479,
   "metadata": {},
   "outputs": [],
   "source": [
    "def title_simplifier(title):\n",
    "    if 'data scientist' in title.lower():\n",
    "        return 'data scientist'\n",
    "    elif 'data engineer' in title.lower():\n",
    "        return 'data engineer'\n",
    "    elif 'analyst' in title.lower():\n",
    "        return 'data analyst'\n",
    "    elif 'machine learning' in title.lower():\n",
    "        return 'ML engineer'\n",
    "    elif 'manager' in title.lower():\n",
    "        return 'manager'\n",
    "    elif 'director' in title.lower():\n",
    "        return 'director'\n",
    "    else:\n",
    "        return 'Unknown'\n",
    "\n",
    "def seniority(title):\n",
    "    if 'sr' in title.lower() or 'senior' in title.lower() or 'lead' in title.lower() or 'principal' in title.lower():\n",
    "        return 'senior'\n",
    "    elif 'jr' in title.lower() or 'jr.' in title.lower():\n",
    "        return 'junior'\n",
    "    else:\n",
    "        return 'Unknown'"
   ]
  },
  {
   "cell_type": "code",
   "execution_count": 480,
   "metadata": {},
   "outputs": [],
   "source": [
    "df['job_simp'] = df['Job Title'].apply(title_simplifier)\n",
    "df['seniority'] = df['Job Title'].apply(seniority)"
   ]
  },
  {
   "cell_type": "code",
   "execution_count": 481,
   "metadata": {},
   "outputs": [
    {
     "data": {
      "text/plain": [
       "203"
      ]
     },
     "execution_count": 481,
     "metadata": {},
     "output_type": "execute_result"
    }
   ],
   "source": [
    "df['Salary Estimate'].isna().sum()"
   ]
  },
  {
   "cell_type": "code",
   "execution_count": 482,
   "metadata": {},
   "outputs": [],
   "source": [
    "df = df.dropna(subset=['Salary Estimate'])\n",
    "df.reset_index(drop=True, inplace=True)"
   ]
  },
  {
   "cell_type": "code",
   "execution_count": 483,
   "metadata": {},
   "outputs": [],
   "source": [
    "df = df.dropna(subset=['Salary Estimate'])\n",
    "df['Salary Estimate'] = df['Salary Estimate'].str.replace('₹', '') \\\n",
    "        .str.replace('L', '*100000').str.replace('T', '*1000') \\\n",
    "        .str.replace(r'\\(Glassdoor est.\\)', '', regex=True) \\\n",
    "        .str.replace(r'\\(Employer est.\\)', '', regex=True) \\\n",
    "        .str.replace(r'/yr', '', regex=True) \\\n",
    "        .str.replace(r'/mo', '*12', regex=True) \\\n",
    "        .str.replace(r'/hr', '*2080', regex=True)\n",
    "df['avg_salary'] = df['Salary Estimate'].apply(\n",
    "    lambda x: (eval(x.split('–')[0].strip()) + eval(x.split('–')[1].strip()))/2 if '–' in str(x) else eval(x))"
   ]
  },
  {
   "cell_type": "code",
   "execution_count": 484,
   "metadata": {},
   "outputs": [
    {
     "data": {
      "text/html": [
       "<div>\n",
       "<style scoped>\n",
       "    .dataframe tbody tr th:only-of-type {\n",
       "        vertical-align: middle;\n",
       "    }\n",
       "\n",
       "    .dataframe tbody tr th {\n",
       "        vertical-align: top;\n",
       "    }\n",
       "\n",
       "    .dataframe thead th {\n",
       "        text-align: right;\n",
       "    }\n",
       "</style>\n",
       "<table border=\"1\" class=\"dataframe\">\n",
       "  <thead>\n",
       "    <tr style=\"text-align: right;\">\n",
       "      <th></th>\n",
       "      <th>Job Title</th>\n",
       "      <th>Salary Estimate</th>\n",
       "      <th>Job Description</th>\n",
       "      <th>Rating</th>\n",
       "      <th>Company Name</th>\n",
       "      <th>Location</th>\n",
       "      <th>Size</th>\n",
       "      <th>Founded</th>\n",
       "      <th>Type of ownership</th>\n",
       "      <th>Industry</th>\n",
       "      <th>Sector</th>\n",
       "      <th>Revenue</th>\n",
       "      <th>job_simp</th>\n",
       "      <th>seniority</th>\n",
       "      <th>avg_salary</th>\n",
       "    </tr>\n",
       "  </thead>\n",
       "  <tbody>\n",
       "    <tr>\n",
       "      <th>0</th>\n",
       "      <td>Lead Data Scientist, India - BCG X</td>\n",
       "      <td>6*100000 – 9*100000</td>\n",
       "      <td>Locations: Mumbai | Gurgaon\\nWho We Are\\nBosto...</td>\n",
       "      <td>4.2</td>\n",
       "      <td>Boston Consulting Group</td>\n",
       "      <td>Gurgaon</td>\n",
       "      <td>10000+ Employees</td>\n",
       "      <td>1963</td>\n",
       "      <td>Company - Private</td>\n",
       "      <td>Business consulting</td>\n",
       "      <td>Management and consulting</td>\n",
       "      <td>$5 to $10 billion (USD)</td>\n",
       "      <td>data scientist</td>\n",
       "      <td>senior</td>\n",
       "      <td>750000.0</td>\n",
       "    </tr>\n",
       "    <tr>\n",
       "      <th>1</th>\n",
       "      <td>Senior Machine Learning Engineer</td>\n",
       "      <td>8*100000 – 10*100000</td>\n",
       "      <td>If you need assistance during the recruiting p...</td>\n",
       "      <td>3.8</td>\n",
       "      <td>Expedia Partner Solutions</td>\n",
       "      <td>Gurgaon</td>\n",
       "      <td>10000+ Employees</td>\n",
       "      <td>1996</td>\n",
       "      <td>Company - Public</td>\n",
       "      <td>Internet &amp; Web Services</td>\n",
       "      <td>Information Technology</td>\n",
       "      <td>$5 to $10 billion (USD)</td>\n",
       "      <td>ML engineer</td>\n",
       "      <td>senior</td>\n",
       "      <td>900000.0</td>\n",
       "    </tr>\n",
       "    <tr>\n",
       "      <th>2</th>\n",
       "      <td>Data Scientist</td>\n",
       "      <td>9*100000 – 10*100000</td>\n",
       "      <td>.\\nPurpose of the role\\nTo use innovative data...</td>\n",
       "      <td>3.9</td>\n",
       "      <td>Barclays</td>\n",
       "      <td>Chennai</td>\n",
       "      <td>10000+ Employees</td>\n",
       "      <td>1690</td>\n",
       "      <td>Company - Public</td>\n",
       "      <td>Banking &amp; Lending</td>\n",
       "      <td>Finance</td>\n",
       "      <td>$10+ billion (USD)</td>\n",
       "      <td>data scientist</td>\n",
       "      <td>Unknown</td>\n",
       "      <td>950000.0</td>\n",
       "    </tr>\n",
       "    <tr>\n",
       "      <th>3</th>\n",
       "      <td>Python Data Scientist/Analyst</td>\n",
       "      <td>25*100000 – 36*100000</td>\n",
       "      <td>Bachelor’s/Master’s degree in Engineering, Com...</td>\n",
       "      <td>NaN</td>\n",
       "      <td>Excellent Opportunity</td>\n",
       "      <td>Remote</td>\n",
       "      <td>NaN</td>\n",
       "      <td>NaN</td>\n",
       "      <td>NaN</td>\n",
       "      <td>NaN</td>\n",
       "      <td>NaN</td>\n",
       "      <td>NaN</td>\n",
       "      <td>data scientist</td>\n",
       "      <td>Unknown</td>\n",
       "      <td>3050000.0</td>\n",
       "    </tr>\n",
       "    <tr>\n",
       "      <th>4</th>\n",
       "      <td>Python &amp; Data Science Trainer</td>\n",
       "      <td>12*1000 – 20*1000*12</td>\n",
       "      <td>Responsible for delivering workshops &amp; trainin...</td>\n",
       "      <td>NaN</td>\n",
       "      <td>IPCS Global solutions pvt ltd</td>\n",
       "      <td>India</td>\n",
       "      <td>NaN</td>\n",
       "      <td>NaN</td>\n",
       "      <td>NaN</td>\n",
       "      <td>NaN</td>\n",
       "      <td>NaN</td>\n",
       "      <td>NaN</td>\n",
       "      <td>Unknown</td>\n",
       "      <td>Unknown</td>\n",
       "      <td>126000.0</td>\n",
       "    </tr>\n",
       "  </tbody>\n",
       "</table>\n",
       "</div>"
      ],
      "text/plain": [
       "                            Job Title         Salary Estimate  \\\n",
       "0  Lead Data Scientist, India - BCG X    6*100000 – 9*100000    \n",
       "1    Senior Machine Learning Engineer   8*100000 – 10*100000    \n",
       "2                      Data Scientist   9*100000 – 10*100000    \n",
       "3       Python Data Scientist/Analyst  25*100000 – 36*100000    \n",
       "4       Python & Data Science Trainer   12*1000 – 20*1000*12    \n",
       "\n",
       "                                     Job Description  Rating  \\\n",
       "0  Locations: Mumbai | Gurgaon\\nWho We Are\\nBosto...     4.2   \n",
       "1  If you need assistance during the recruiting p...     3.8   \n",
       "2  .\\nPurpose of the role\\nTo use innovative data...     3.9   \n",
       "3  Bachelor’s/Master’s degree in Engineering, Com...     NaN   \n",
       "4  Responsible for delivering workshops & trainin...     NaN   \n",
       "\n",
       "                    Company Name Location              Size Founded  \\\n",
       "0        Boston Consulting Group  Gurgaon  10000+ Employees    1963   \n",
       "1      Expedia Partner Solutions  Gurgaon  10000+ Employees    1996   \n",
       "2                       Barclays  Chennai  10000+ Employees    1690   \n",
       "3          Excellent Opportunity   Remote               NaN     NaN   \n",
       "4  IPCS Global solutions pvt ltd    India               NaN     NaN   \n",
       "\n",
       "   Type of ownership                 Industry                     Sector  \\\n",
       "0  Company - Private      Business consulting  Management and consulting   \n",
       "1   Company - Public  Internet & Web Services     Information Technology   \n",
       "2   Company - Public        Banking & Lending                    Finance   \n",
       "3                NaN                      NaN                        NaN   \n",
       "4                NaN                      NaN                        NaN   \n",
       "\n",
       "                   Revenue        job_simp seniority  avg_salary  \n",
       "0  $5 to $10 billion (USD)  data scientist    senior    750000.0  \n",
       "1  $5 to $10 billion (USD)     ML engineer    senior    900000.0  \n",
       "2       $10+ billion (USD)  data scientist   Unknown    950000.0  \n",
       "3                      NaN  data scientist   Unknown   3050000.0  \n",
       "4                      NaN         Unknown   Unknown    126000.0  "
      ]
     },
     "execution_count": 484,
     "metadata": {},
     "output_type": "execute_result"
    }
   ],
   "source": [
    "df.head()"
   ]
  },
  {
   "cell_type": "code",
   "execution_count": 485,
   "metadata": {},
   "outputs": [
    {
     "data": {
      "text/plain": [
       "Company Name\n",
       "Innovecture                          68\n",
       "Boston Consulting Group              67\n",
       "Barclays                             34\n",
       "Excellent Opportunity                34\n",
       "IPCS Global solutions pvt ltd        34\n",
       "S&P Global                           34\n",
       "Indicraft Vintage Private Limited    34\n",
       "Applied Materials                    34\n",
       "Expedia Partner Solutions            34\n",
       "Accusaga                             33\n",
       "Nithminds Private limited            33\n",
       "Exponentia.ai                        33\n",
       "Arch Systems, LLC                    33\n",
       "WAHY LAB SOLUTIONS                   33\n",
       "objectways                           33\n",
       "AIBridge ML                          33\n",
       "Blackcoffer (OPC) Pvt. Ltd           33\n",
       "Louis Dreyfus Company                32\n",
       "Michelin                             32\n",
       "Drimlite                             32\n",
       "MacroCosmos Creations                32\n",
       "Saaki Argus & Averil Consulting      32\n",
       "Name: count, dtype: int64"
      ]
     },
     "execution_count": 485,
     "metadata": {},
     "output_type": "execute_result"
    }
   ],
   "source": [
    "df['Company Name'].value_counts()"
   ]
  },
  {
   "cell_type": "code",
   "execution_count": 486,
   "metadata": {},
   "outputs": [
    {
     "data": {
      "text/plain": [
       "265"
      ]
     },
     "execution_count": 486,
     "metadata": {},
     "output_type": "execute_result"
    }
   ],
   "source": [
    "df['Type of ownership'].isna().sum()"
   ]
  },
  {
   "cell_type": "code",
   "execution_count": 487,
   "metadata": {},
   "outputs": [
    {
     "data": {
      "text/plain": [
       "Type of ownership\n",
       "Company - Private                 267\n",
       "Company - Public                  168\n",
       "Unknown                            33\n",
       "Subsidiary or Business Segment     32\n",
       "Private Practice / Firm            32\n",
       "Name: count, dtype: int64"
      ]
     },
     "execution_count": 487,
     "metadata": {},
     "output_type": "execute_result"
    }
   ],
   "source": [
    "df['Type of ownership'].value_counts()"
   ]
  },
  {
   "cell_type": "code",
   "execution_count": 488,
   "metadata": {},
   "outputs": [
    {
     "data": {
      "text/plain": [
       "265"
      ]
     },
     "execution_count": 488,
     "metadata": {},
     "output_type": "execute_result"
    }
   ],
   "source": [
    "df['Industry'].isna().sum()"
   ]
  },
  {
   "cell_type": "code",
   "execution_count": 489,
   "metadata": {},
   "outputs": [
    {
     "data": {
      "text/plain": [
       "Industry\n",
       "Information Technology Support Services    134\n",
       "Business consulting                         67\n",
       "--                                          66\n",
       "Internet & Web Services                     34\n",
       "Banking & Lending                           34\n",
       "Research and development                    34\n",
       "Electronics Manufacturing                   34\n",
       "Computer Hardware Development               33\n",
       "Crop Production                             32\n",
       "Machinery Manufacturing                     32\n",
       "HR Consulting                               32\n",
       "Name: count, dtype: int64"
      ]
     },
     "execution_count": 489,
     "metadata": {},
     "output_type": "execute_result"
    }
   ],
   "source": [
    "df['Industry'].value_counts()"
   ]
  },
  {
   "cell_type": "code",
   "execution_count": 490,
   "metadata": {},
   "outputs": [
    {
     "data": {
      "text/plain": [
       "265"
      ]
     },
     "execution_count": 490,
     "metadata": {},
     "output_type": "execute_result"
    }
   ],
   "source": [
    "df['Sector'].isna().sum()"
   ]
  },
  {
   "cell_type": "code",
   "execution_count": 491,
   "metadata": {},
   "outputs": [
    {
     "data": {
      "text/plain": [
       "Sector\n",
       "Information Technology          201\n",
       "Management and consulting       101\n",
       "Manufacturing                    66\n",
       "--                               66\n",
       "Finance                          34\n",
       "Agriculture                      32\n",
       "Human resources and staffing     32\n",
       "Name: count, dtype: int64"
      ]
     },
     "execution_count": 491,
     "metadata": {},
     "output_type": "execute_result"
    }
   ],
   "source": [
    "df['Sector'].value_counts()"
   ]
  },
  {
   "cell_type": "code",
   "execution_count": 492,
   "metadata": {},
   "outputs": [],
   "source": [
    "df[['Type of ownership', 'Industry', 'Sector','Revenue','Size']] = df[['Type of ownership', 'Industry', 'Sector','Revenue', 'Size']].fillna('Unknown')"
   ]
  },
  {
   "cell_type": "code",
   "execution_count": 493,
   "metadata": {},
   "outputs": [
    {
     "data": {
      "text/plain": [
       "Revenue\n",
       "Unknown                     265\n",
       "$10+ billion (USD)          166\n",
       "Unknown / Non-Applicable    164\n",
       "$5 to $10 billion (USD)     101\n",
       "$5 to $25 million (USD)     101\n",
       "Name: count, dtype: int64"
      ]
     },
     "execution_count": 493,
     "metadata": {},
     "output_type": "execute_result"
    }
   ],
   "source": [
    "df['Revenue'].value_counts()"
   ]
  },
  {
   "cell_type": "code",
   "execution_count": 494,
   "metadata": {},
   "outputs": [
    {
     "data": {
      "text/plain": [
       "Size\n",
       "Unknown                 298\n",
       "10000+ Employees        267\n",
       "51 to 200 Employees     133\n",
       "1 to 50 Employees        66\n",
       "201 to 500 Employees     33\n",
       "Name: count, dtype: int64"
      ]
     },
     "execution_count": 494,
     "metadata": {},
     "output_type": "execute_result"
    }
   ],
   "source": [
    "df['Size'].value_counts()"
   ]
  },
  {
   "cell_type": "code",
   "execution_count": 495,
   "metadata": {},
   "outputs": [],
   "source": [
    "def clean_size(df):\n",
    "    df['Size_Upper'] = df['Size'].str.replace('10000+ Employees', 'large') \\\n",
    "                            .str.replace('201 to 500 Employees', 'high') \\\n",
    "                            .str.replace('51 to 200 Employees', 'med') \\\n",
    "                            .str.replace('1 to 50 Employees', 'low') \\\n",
    "                            .str.strip()\n",
    "\n",
    "\n",
    "def clean_founded(df):\n",
    "    df['Founded'] = pd.to_numeric(df['Founded'], errors='coerce')\n",
    "    df['Age'] = 2024 - df['Founded'].dropna().astype(int)\n",
    "\n",
    "def clean_industry_sector_ownership(df):\n",
    "    df['Industry'] = df['Industry'].apply(lambda x: 'unknown' if x == '--' else x)\n",
    "    df['Sector'] = df['Sector'].apply(lambda x: 'unknown' if x == '--' else x)\n",
    "    df['Ownership'] = df['Type of ownership'].str.replace('Company - Private', 'private') \\\n",
    "                            .str.replace('Company - Public', 'publlic') \\\n",
    "                            .str.replace('Subsidiary or Business Segment', 'subsidiary') \\\n",
    "                            .str.replace('Private Practice / Firm', 'firm') \\\n",
    "                            .str.strip()\n",
    " \n",
    "def clean_revenue(df):\n",
    "    df['Revenue_Upper'] = df['Revenue'].str.replace(r'\\$5 to \\$10 billion \\(USD\\)', 'med', regex=True) \\\n",
    "                                .str.replace(r'\\$10\\+ billion \\(USD\\)', 'high', regex=True) \\\n",
    "                                .str.replace(r'\\$5 to \\$25 million \\(USD\\)', 'low', regex=True) \\\n",
    "                                .str.replace(r'Unknown / Non-Applicable', 'Unknown', regex=True) \\\n",
    "                                .str.strip()\n"
   ]
  },
  {
   "cell_type": "code",
   "execution_count": 496,
   "metadata": {},
   "outputs": [],
   "source": [
    "clean_size(df)\n",
    "clean_founded(df)\n",
    "clean_industry_sector_ownership(df)\n",
    "clean_revenue(df)"
   ]
  },
  {
   "cell_type": "code",
   "execution_count": 497,
   "metadata": {},
   "outputs": [
    {
     "data": {
      "text/plain": [
       "0"
      ]
     },
     "execution_count": 497,
     "metadata": {},
     "output_type": "execute_result"
    }
   ],
   "source": [
    "df['Revenue_Upper'].isna().sum()"
   ]
  },
  {
   "cell_type": "code",
   "execution_count": 498,
   "metadata": {},
   "outputs": [
    {
     "data": {
      "text/html": [
       "<div>\n",
       "<style scoped>\n",
       "    .dataframe tbody tr th:only-of-type {\n",
       "        vertical-align: middle;\n",
       "    }\n",
       "\n",
       "    .dataframe tbody tr th {\n",
       "        vertical-align: top;\n",
       "    }\n",
       "\n",
       "    .dataframe thead th {\n",
       "        text-align: right;\n",
       "    }\n",
       "</style>\n",
       "<table border=\"1\" class=\"dataframe\">\n",
       "  <thead>\n",
       "    <tr style=\"text-align: right;\">\n",
       "      <th></th>\n",
       "      <th>Job Title</th>\n",
       "      <th>Salary Estimate</th>\n",
       "      <th>Job Description</th>\n",
       "      <th>Rating</th>\n",
       "      <th>Company Name</th>\n",
       "      <th>Location</th>\n",
       "      <th>Size</th>\n",
       "      <th>Founded</th>\n",
       "      <th>Type of ownership</th>\n",
       "      <th>Industry</th>\n",
       "      <th>Sector</th>\n",
       "      <th>Revenue</th>\n",
       "      <th>job_simp</th>\n",
       "      <th>seniority</th>\n",
       "      <th>avg_salary</th>\n",
       "      <th>Size_Upper</th>\n",
       "      <th>Age</th>\n",
       "      <th>Ownership</th>\n",
       "      <th>Revenue_Upper</th>\n",
       "    </tr>\n",
       "  </thead>\n",
       "  <tbody>\n",
       "    <tr>\n",
       "      <th>0</th>\n",
       "      <td>Lead Data Scientist, India - BCG X</td>\n",
       "      <td>6*100000 – 9*100000</td>\n",
       "      <td>Locations: Mumbai | Gurgaon\\nWho We Are\\nBosto...</td>\n",
       "      <td>4.2</td>\n",
       "      <td>Boston Consulting Group</td>\n",
       "      <td>Gurgaon</td>\n",
       "      <td>10000+ Employees</td>\n",
       "      <td>1963.0</td>\n",
       "      <td>Company - Private</td>\n",
       "      <td>Business consulting</td>\n",
       "      <td>Management and consulting</td>\n",
       "      <td>$5 to $10 billion (USD)</td>\n",
       "      <td>data scientist</td>\n",
       "      <td>senior</td>\n",
       "      <td>750000.0</td>\n",
       "      <td>large</td>\n",
       "      <td>61.0</td>\n",
       "      <td>private</td>\n",
       "      <td>med</td>\n",
       "    </tr>\n",
       "    <tr>\n",
       "      <th>1</th>\n",
       "      <td>Senior Machine Learning Engineer</td>\n",
       "      <td>8*100000 – 10*100000</td>\n",
       "      <td>If you need assistance during the recruiting p...</td>\n",
       "      <td>3.8</td>\n",
       "      <td>Expedia Partner Solutions</td>\n",
       "      <td>Gurgaon</td>\n",
       "      <td>10000+ Employees</td>\n",
       "      <td>1996.0</td>\n",
       "      <td>Company - Public</td>\n",
       "      <td>Internet &amp; Web Services</td>\n",
       "      <td>Information Technology</td>\n",
       "      <td>$5 to $10 billion (USD)</td>\n",
       "      <td>ML engineer</td>\n",
       "      <td>senior</td>\n",
       "      <td>900000.0</td>\n",
       "      <td>large</td>\n",
       "      <td>28.0</td>\n",
       "      <td>publlic</td>\n",
       "      <td>med</td>\n",
       "    </tr>\n",
       "    <tr>\n",
       "      <th>2</th>\n",
       "      <td>Data Scientist</td>\n",
       "      <td>9*100000 – 10*100000</td>\n",
       "      <td>.\\nPurpose of the role\\nTo use innovative data...</td>\n",
       "      <td>3.9</td>\n",
       "      <td>Barclays</td>\n",
       "      <td>Chennai</td>\n",
       "      <td>10000+ Employees</td>\n",
       "      <td>1690.0</td>\n",
       "      <td>Company - Public</td>\n",
       "      <td>Banking &amp; Lending</td>\n",
       "      <td>Finance</td>\n",
       "      <td>$10+ billion (USD)</td>\n",
       "      <td>data scientist</td>\n",
       "      <td>Unknown</td>\n",
       "      <td>950000.0</td>\n",
       "      <td>large</td>\n",
       "      <td>334.0</td>\n",
       "      <td>publlic</td>\n",
       "      <td>high</td>\n",
       "    </tr>\n",
       "    <tr>\n",
       "      <th>3</th>\n",
       "      <td>Python Data Scientist/Analyst</td>\n",
       "      <td>25*100000 – 36*100000</td>\n",
       "      <td>Bachelor’s/Master’s degree in Engineering, Com...</td>\n",
       "      <td>NaN</td>\n",
       "      <td>Excellent Opportunity</td>\n",
       "      <td>Remote</td>\n",
       "      <td>Unknown</td>\n",
       "      <td>NaN</td>\n",
       "      <td>Unknown</td>\n",
       "      <td>Unknown</td>\n",
       "      <td>Unknown</td>\n",
       "      <td>Unknown</td>\n",
       "      <td>data scientist</td>\n",
       "      <td>Unknown</td>\n",
       "      <td>3050000.0</td>\n",
       "      <td>Unknown</td>\n",
       "      <td>NaN</td>\n",
       "      <td>Unknown</td>\n",
       "      <td>Unknown</td>\n",
       "    </tr>\n",
       "    <tr>\n",
       "      <th>4</th>\n",
       "      <td>Python &amp; Data Science Trainer</td>\n",
       "      <td>12*1000 – 20*1000*12</td>\n",
       "      <td>Responsible for delivering workshops &amp; trainin...</td>\n",
       "      <td>NaN</td>\n",
       "      <td>IPCS Global solutions pvt ltd</td>\n",
       "      <td>India</td>\n",
       "      <td>Unknown</td>\n",
       "      <td>NaN</td>\n",
       "      <td>Unknown</td>\n",
       "      <td>Unknown</td>\n",
       "      <td>Unknown</td>\n",
       "      <td>Unknown</td>\n",
       "      <td>Unknown</td>\n",
       "      <td>Unknown</td>\n",
       "      <td>126000.0</td>\n",
       "      <td>Unknown</td>\n",
       "      <td>NaN</td>\n",
       "      <td>Unknown</td>\n",
       "      <td>Unknown</td>\n",
       "    </tr>\n",
       "  </tbody>\n",
       "</table>\n",
       "</div>"
      ],
      "text/plain": [
       "                            Job Title         Salary Estimate  \\\n",
       "0  Lead Data Scientist, India - BCG X    6*100000 – 9*100000    \n",
       "1    Senior Machine Learning Engineer   8*100000 – 10*100000    \n",
       "2                      Data Scientist   9*100000 – 10*100000    \n",
       "3       Python Data Scientist/Analyst  25*100000 – 36*100000    \n",
       "4       Python & Data Science Trainer   12*1000 – 20*1000*12    \n",
       "\n",
       "                                     Job Description  Rating  \\\n",
       "0  Locations: Mumbai | Gurgaon\\nWho We Are\\nBosto...     4.2   \n",
       "1  If you need assistance during the recruiting p...     3.8   \n",
       "2  .\\nPurpose of the role\\nTo use innovative data...     3.9   \n",
       "3  Bachelor’s/Master’s degree in Engineering, Com...     NaN   \n",
       "4  Responsible for delivering workshops & trainin...     NaN   \n",
       "\n",
       "                    Company Name Location              Size  Founded  \\\n",
       "0        Boston Consulting Group  Gurgaon  10000+ Employees   1963.0   \n",
       "1      Expedia Partner Solutions  Gurgaon  10000+ Employees   1996.0   \n",
       "2                       Barclays  Chennai  10000+ Employees   1690.0   \n",
       "3          Excellent Opportunity   Remote           Unknown      NaN   \n",
       "4  IPCS Global solutions pvt ltd    India           Unknown      NaN   \n",
       "\n",
       "   Type of ownership                 Industry                     Sector  \\\n",
       "0  Company - Private      Business consulting  Management and consulting   \n",
       "1   Company - Public  Internet & Web Services     Information Technology   \n",
       "2   Company - Public        Banking & Lending                    Finance   \n",
       "3            Unknown                  Unknown                    Unknown   \n",
       "4            Unknown                  Unknown                    Unknown   \n",
       "\n",
       "                   Revenue        job_simp seniority  avg_salary Size_Upper  \\\n",
       "0  $5 to $10 billion (USD)  data scientist    senior    750000.0      large   \n",
       "1  $5 to $10 billion (USD)     ML engineer    senior    900000.0      large   \n",
       "2       $10+ billion (USD)  data scientist   Unknown    950000.0      large   \n",
       "3                  Unknown  data scientist   Unknown   3050000.0    Unknown   \n",
       "4                  Unknown         Unknown   Unknown    126000.0    Unknown   \n",
       "\n",
       "     Age Ownership Revenue_Upper  \n",
       "0   61.0   private           med  \n",
       "1   28.0   publlic           med  \n",
       "2  334.0   publlic          high  \n",
       "3    NaN   Unknown       Unknown  \n",
       "4    NaN   Unknown       Unknown  "
      ]
     },
     "execution_count": 498,
     "metadata": {},
     "output_type": "execute_result"
    }
   ],
   "source": [
    "df.head()"
   ]
  },
  {
   "cell_type": "code",
   "execution_count": 499,
   "metadata": {},
   "outputs": [],
   "source": [
    "df = df.drop(['Job Title', 'Salary Estimate', 'Job Description', 'Size', 'Founded', 'Revenue','Type of ownership'], axis=1)"
   ]
  },
  {
   "cell_type": "code",
   "execution_count": 500,
   "metadata": {},
   "outputs": [
    {
     "data": {
      "text/html": [
       "<div>\n",
       "<style scoped>\n",
       "    .dataframe tbody tr th:only-of-type {\n",
       "        vertical-align: middle;\n",
       "    }\n",
       "\n",
       "    .dataframe tbody tr th {\n",
       "        vertical-align: top;\n",
       "    }\n",
       "\n",
       "    .dataframe thead th {\n",
       "        text-align: right;\n",
       "    }\n",
       "</style>\n",
       "<table border=\"1\" class=\"dataframe\">\n",
       "  <thead>\n",
       "    <tr style=\"text-align: right;\">\n",
       "      <th></th>\n",
       "      <th>Rating</th>\n",
       "      <th>Company Name</th>\n",
       "      <th>Location</th>\n",
       "      <th>Industry</th>\n",
       "      <th>Sector</th>\n",
       "      <th>job_simp</th>\n",
       "      <th>seniority</th>\n",
       "      <th>avg_salary</th>\n",
       "      <th>Size_Upper</th>\n",
       "      <th>Age</th>\n",
       "      <th>Ownership</th>\n",
       "      <th>Revenue_Upper</th>\n",
       "    </tr>\n",
       "  </thead>\n",
       "  <tbody>\n",
       "    <tr>\n",
       "      <th>0</th>\n",
       "      <td>4.2</td>\n",
       "      <td>Boston Consulting Group</td>\n",
       "      <td>Gurgaon</td>\n",
       "      <td>Business consulting</td>\n",
       "      <td>Management and consulting</td>\n",
       "      <td>data scientist</td>\n",
       "      <td>senior</td>\n",
       "      <td>750000.0</td>\n",
       "      <td>large</td>\n",
       "      <td>61.0</td>\n",
       "      <td>private</td>\n",
       "      <td>med</td>\n",
       "    </tr>\n",
       "    <tr>\n",
       "      <th>1</th>\n",
       "      <td>3.8</td>\n",
       "      <td>Expedia Partner Solutions</td>\n",
       "      <td>Gurgaon</td>\n",
       "      <td>Internet &amp; Web Services</td>\n",
       "      <td>Information Technology</td>\n",
       "      <td>ML engineer</td>\n",
       "      <td>senior</td>\n",
       "      <td>900000.0</td>\n",
       "      <td>large</td>\n",
       "      <td>28.0</td>\n",
       "      <td>publlic</td>\n",
       "      <td>med</td>\n",
       "    </tr>\n",
       "    <tr>\n",
       "      <th>2</th>\n",
       "      <td>3.9</td>\n",
       "      <td>Barclays</td>\n",
       "      <td>Chennai</td>\n",
       "      <td>Banking &amp; Lending</td>\n",
       "      <td>Finance</td>\n",
       "      <td>data scientist</td>\n",
       "      <td>Unknown</td>\n",
       "      <td>950000.0</td>\n",
       "      <td>large</td>\n",
       "      <td>334.0</td>\n",
       "      <td>publlic</td>\n",
       "      <td>high</td>\n",
       "    </tr>\n",
       "    <tr>\n",
       "      <th>3</th>\n",
       "      <td>NaN</td>\n",
       "      <td>Excellent Opportunity</td>\n",
       "      <td>Remote</td>\n",
       "      <td>Unknown</td>\n",
       "      <td>Unknown</td>\n",
       "      <td>data scientist</td>\n",
       "      <td>Unknown</td>\n",
       "      <td>3050000.0</td>\n",
       "      <td>Unknown</td>\n",
       "      <td>NaN</td>\n",
       "      <td>Unknown</td>\n",
       "      <td>Unknown</td>\n",
       "    </tr>\n",
       "    <tr>\n",
       "      <th>4</th>\n",
       "      <td>NaN</td>\n",
       "      <td>IPCS Global solutions pvt ltd</td>\n",
       "      <td>India</td>\n",
       "      <td>Unknown</td>\n",
       "      <td>Unknown</td>\n",
       "      <td>Unknown</td>\n",
       "      <td>Unknown</td>\n",
       "      <td>126000.0</td>\n",
       "      <td>Unknown</td>\n",
       "      <td>NaN</td>\n",
       "      <td>Unknown</td>\n",
       "      <td>Unknown</td>\n",
       "    </tr>\n",
       "  </tbody>\n",
       "</table>\n",
       "</div>"
      ],
      "text/plain": [
       "   Rating                   Company Name Location                 Industry  \\\n",
       "0     4.2        Boston Consulting Group  Gurgaon      Business consulting   \n",
       "1     3.8      Expedia Partner Solutions  Gurgaon  Internet & Web Services   \n",
       "2     3.9                       Barclays  Chennai        Banking & Lending   \n",
       "3     NaN          Excellent Opportunity   Remote                  Unknown   \n",
       "4     NaN  IPCS Global solutions pvt ltd    India                  Unknown   \n",
       "\n",
       "                      Sector        job_simp seniority  avg_salary Size_Upper  \\\n",
       "0  Management and consulting  data scientist    senior    750000.0      large   \n",
       "1     Information Technology     ML engineer    senior    900000.0      large   \n",
       "2                    Finance  data scientist   Unknown    950000.0      large   \n",
       "3                    Unknown  data scientist   Unknown   3050000.0    Unknown   \n",
       "4                    Unknown         Unknown   Unknown    126000.0    Unknown   \n",
       "\n",
       "     Age Ownership Revenue_Upper  \n",
       "0   61.0   private           med  \n",
       "1   28.0   publlic           med  \n",
       "2  334.0   publlic          high  \n",
       "3    NaN   Unknown       Unknown  \n",
       "4    NaN   Unknown       Unknown  "
      ]
     },
     "execution_count": 500,
     "metadata": {},
     "output_type": "execute_result"
    }
   ],
   "source": [
    "df.head()"
   ]
  },
  {
   "cell_type": "code",
   "execution_count": 501,
   "metadata": {},
   "outputs": [
    {
     "data": {
      "text/plain": [
       "Rating           265\n",
       "Company Name       0\n",
       "Location           0\n",
       "Industry           0\n",
       "Sector             0\n",
       "job_simp           0\n",
       "seniority          0\n",
       "avg_salary         0\n",
       "Size_Upper         0\n",
       "Age              364\n",
       "Ownership          0\n",
       "Revenue_Upper      0\n",
       "dtype: int64"
      ]
     },
     "execution_count": 501,
     "metadata": {},
     "output_type": "execute_result"
    }
   ],
   "source": [
    "df.isna().sum()"
   ]
  },
  {
   "cell_type": "code",
   "execution_count": 502,
   "metadata": {},
   "outputs": [],
   "source": [
    "df.to_csv(\"../artifacts/data_clean.csv\", index=False)"
   ]
  }
 ],
 "metadata": {
  "kernelspec": {
   "display_name": "myenv",
   "language": "python",
   "name": "python3"
  },
  "language_info": {
   "codemirror_mode": {
    "name": "ipython",
    "version": 3
   },
   "file_extension": ".py",
   "mimetype": "text/x-python",
   "name": "python",
   "nbconvert_exporter": "python",
   "pygments_lexer": "ipython3",
   "version": "3.10.13"
  }
 },
 "nbformat": 4,
 "nbformat_minor": 2
}

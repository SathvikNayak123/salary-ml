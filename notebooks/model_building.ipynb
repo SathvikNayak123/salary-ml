{
 "cells": [
  {
   "cell_type": "code",
   "execution_count": 14,
   "metadata": {},
   "outputs": [],
   "source": [
    "import pandas as pd\n",
    "import numpy as np\n",
    "from sklearn.model_selection import train_test_split, GridSearchCV\n",
    "from sklearn.preprocessing import StandardScaler\n",
    "from sklearn.svm import SVR\n",
    "from sklearn.linear_model import ElasticNet\n",
    "from sklearn.metrics import mean_squared_error"
   ]
  },
  {
   "cell_type": "code",
   "execution_count": 15,
   "metadata": {},
   "outputs": [
    {
     "data": {
      "text/html": [
       "<div>\n",
       "<style scoped>\n",
       "    .dataframe tbody tr th:only-of-type {\n",
       "        vertical-align: middle;\n",
       "    }\n",
       "\n",
       "    .dataframe tbody tr th {\n",
       "        vertical-align: top;\n",
       "    }\n",
       "\n",
       "    .dataframe thead th {\n",
       "        text-align: right;\n",
       "    }\n",
       "</style>\n",
       "<table border=\"1\" class=\"dataframe\">\n",
       "  <thead>\n",
       "    <tr style=\"text-align: right;\">\n",
       "      <th></th>\n",
       "      <th>Rating</th>\n",
       "      <th>Age</th>\n",
       "      <th>Company Name_AIBridge ML</th>\n",
       "      <th>Company Name_Accusaga</th>\n",
       "      <th>Company Name_Applied Materials</th>\n",
       "      <th>Company Name_Arch Systems, LLC</th>\n",
       "      <th>Company Name_Barclays</th>\n",
       "      <th>Company Name_Blackcoffer (OPC) Pvt. Ltd</th>\n",
       "      <th>Company Name_Boston Consulting Group</th>\n",
       "      <th>Company Name_Drimlite</th>\n",
       "      <th>...</th>\n",
       "      <th>Revenue_Upper_Unknown</th>\n",
       "      <th>Revenue_Upper_high</th>\n",
       "      <th>Revenue_Upper_low</th>\n",
       "      <th>Revenue_Upper_med</th>\n",
       "      <th>Size_Upper_Unknown</th>\n",
       "      <th>Size_Upper_high</th>\n",
       "      <th>Size_Upper_large</th>\n",
       "      <th>Size_Upper_low</th>\n",
       "      <th>Size_Upper_med</th>\n",
       "      <th>log_avg_salary</th>\n",
       "    </tr>\n",
       "  </thead>\n",
       "  <tbody>\n",
       "    <tr>\n",
       "      <th>0</th>\n",
       "      <td>4.200000</td>\n",
       "      <td>61.000000</td>\n",
       "      <td>0.0</td>\n",
       "      <td>0.0</td>\n",
       "      <td>0.0</td>\n",
       "      <td>0.0</td>\n",
       "      <td>0.0</td>\n",
       "      <td>0.0</td>\n",
       "      <td>1.0</td>\n",
       "      <td>0.0</td>\n",
       "      <td>...</td>\n",
       "      <td>0.0</td>\n",
       "      <td>0.0</td>\n",
       "      <td>0.0</td>\n",
       "      <td>1.0</td>\n",
       "      <td>0.0</td>\n",
       "      <td>0.0</td>\n",
       "      <td>1.0</td>\n",
       "      <td>0.0</td>\n",
       "      <td>0.0</td>\n",
       "      <td>13.527830</td>\n",
       "    </tr>\n",
       "    <tr>\n",
       "      <th>1</th>\n",
       "      <td>3.800000</td>\n",
       "      <td>28.000000</td>\n",
       "      <td>0.0</td>\n",
       "      <td>0.0</td>\n",
       "      <td>0.0</td>\n",
       "      <td>0.0</td>\n",
       "      <td>0.0</td>\n",
       "      <td>0.0</td>\n",
       "      <td>0.0</td>\n",
       "      <td>0.0</td>\n",
       "      <td>...</td>\n",
       "      <td>0.0</td>\n",
       "      <td>0.0</td>\n",
       "      <td>0.0</td>\n",
       "      <td>1.0</td>\n",
       "      <td>0.0</td>\n",
       "      <td>0.0</td>\n",
       "      <td>1.0</td>\n",
       "      <td>0.0</td>\n",
       "      <td>0.0</td>\n",
       "      <td>13.710151</td>\n",
       "    </tr>\n",
       "    <tr>\n",
       "      <th>2</th>\n",
       "      <td>3.900000</td>\n",
       "      <td>334.000000</td>\n",
       "      <td>0.0</td>\n",
       "      <td>0.0</td>\n",
       "      <td>0.0</td>\n",
       "      <td>0.0</td>\n",
       "      <td>1.0</td>\n",
       "      <td>0.0</td>\n",
       "      <td>0.0</td>\n",
       "      <td>0.0</td>\n",
       "      <td>...</td>\n",
       "      <td>0.0</td>\n",
       "      <td>1.0</td>\n",
       "      <td>0.0</td>\n",
       "      <td>0.0</td>\n",
       "      <td>0.0</td>\n",
       "      <td>0.0</td>\n",
       "      <td>1.0</td>\n",
       "      <td>0.0</td>\n",
       "      <td>0.0</td>\n",
       "      <td>13.764218</td>\n",
       "    </tr>\n",
       "    <tr>\n",
       "      <th>3</th>\n",
       "      <td>4.090038</td>\n",
       "      <td>84.323326</td>\n",
       "      <td>0.0</td>\n",
       "      <td>0.0</td>\n",
       "      <td>0.0</td>\n",
       "      <td>0.0</td>\n",
       "      <td>0.0</td>\n",
       "      <td>0.0</td>\n",
       "      <td>0.0</td>\n",
       "      <td>0.0</td>\n",
       "      <td>...</td>\n",
       "      <td>1.0</td>\n",
       "      <td>0.0</td>\n",
       "      <td>0.0</td>\n",
       "      <td>0.0</td>\n",
       "      <td>1.0</td>\n",
       "      <td>0.0</td>\n",
       "      <td>0.0</td>\n",
       "      <td>0.0</td>\n",
       "      <td>0.0</td>\n",
       "      <td>14.930652</td>\n",
       "    </tr>\n",
       "    <tr>\n",
       "      <th>4</th>\n",
       "      <td>4.090038</td>\n",
       "      <td>84.323326</td>\n",
       "      <td>0.0</td>\n",
       "      <td>0.0</td>\n",
       "      <td>0.0</td>\n",
       "      <td>0.0</td>\n",
       "      <td>0.0</td>\n",
       "      <td>0.0</td>\n",
       "      <td>0.0</td>\n",
       "      <td>0.0</td>\n",
       "      <td>...</td>\n",
       "      <td>1.0</td>\n",
       "      <td>0.0</td>\n",
       "      <td>0.0</td>\n",
       "      <td>0.0</td>\n",
       "      <td>1.0</td>\n",
       "      <td>0.0</td>\n",
       "      <td>0.0</td>\n",
       "      <td>0.0</td>\n",
       "      <td>0.0</td>\n",
       "      <td>11.744045</td>\n",
       "    </tr>\n",
       "  </tbody>\n",
       "</table>\n",
       "<p>5 rows × 76 columns</p>\n",
       "</div>"
      ],
      "text/plain": [
       "     Rating         Age  Company Name_AIBridge ML  Company Name_Accusaga  \\\n",
       "0  4.200000   61.000000                       0.0                    0.0   \n",
       "1  3.800000   28.000000                       0.0                    0.0   \n",
       "2  3.900000  334.000000                       0.0                    0.0   \n",
       "3  4.090038   84.323326                       0.0                    0.0   \n",
       "4  4.090038   84.323326                       0.0                    0.0   \n",
       "\n",
       "   Company Name_Applied Materials  Company Name_Arch Systems, LLC  \\\n",
       "0                             0.0                             0.0   \n",
       "1                             0.0                             0.0   \n",
       "2                             0.0                             0.0   \n",
       "3                             0.0                             0.0   \n",
       "4                             0.0                             0.0   \n",
       "\n",
       "   Company Name_Barclays  Company Name_Blackcoffer (OPC) Pvt. Ltd  \\\n",
       "0                    0.0                                      0.0   \n",
       "1                    0.0                                      0.0   \n",
       "2                    1.0                                      0.0   \n",
       "3                    0.0                                      0.0   \n",
       "4                    0.0                                      0.0   \n",
       "\n",
       "   Company Name_Boston Consulting Group  Company Name_Drimlite  ...  \\\n",
       "0                                   1.0                    0.0  ...   \n",
       "1                                   0.0                    0.0  ...   \n",
       "2                                   0.0                    0.0  ...   \n",
       "3                                   0.0                    0.0  ...   \n",
       "4                                   0.0                    0.0  ...   \n",
       "\n",
       "   Revenue_Upper_Unknown  Revenue_Upper_high  Revenue_Upper_low  \\\n",
       "0                    0.0                 0.0                0.0   \n",
       "1                    0.0                 0.0                0.0   \n",
       "2                    0.0                 1.0                0.0   \n",
       "3                    1.0                 0.0                0.0   \n",
       "4                    1.0                 0.0                0.0   \n",
       "\n",
       "   Revenue_Upper_med  Size_Upper_Unknown  Size_Upper_high  Size_Upper_large  \\\n",
       "0                1.0                 0.0              0.0               1.0   \n",
       "1                1.0                 0.0              0.0               1.0   \n",
       "2                0.0                 0.0              0.0               1.0   \n",
       "3                0.0                 1.0              0.0               0.0   \n",
       "4                0.0                 1.0              0.0               0.0   \n",
       "\n",
       "   Size_Upper_low  Size_Upper_med  log_avg_salary  \n",
       "0             0.0             0.0       13.527830  \n",
       "1             0.0             0.0       13.710151  \n",
       "2             0.0             0.0       13.764218  \n",
       "3             0.0             0.0       14.930652  \n",
       "4             0.0             0.0       11.744045  \n",
       "\n",
       "[5 rows x 76 columns]"
      ]
     },
     "execution_count": 15,
     "metadata": {},
     "output_type": "execute_result"
    }
   ],
   "source": [
    "df=pd.read_csv('../artifacts/data_transform.csv')\n",
    "df.head()"
   ]
  },
  {
   "cell_type": "code",
   "execution_count": 16,
   "metadata": {},
   "outputs": [
    {
     "data": {
      "text/plain": [
       "(765, 76)"
      ]
     },
     "execution_count": 16,
     "metadata": {},
     "output_type": "execute_result"
    }
   ],
   "source": [
    "df.shape"
   ]
  },
  {
   "cell_type": "code",
   "execution_count": 17,
   "metadata": {},
   "outputs": [],
   "source": [
    "X = df.drop('log_avg_salary', axis =1)\n",
    "y = df['log_avg_salary']"
   ]
  },
  {
   "cell_type": "code",
   "execution_count": 18,
   "metadata": {},
   "outputs": [
    {
     "name": "stdout",
     "output_type": "stream",
     "text": [
      "count    765.000000\n",
      "mean      13.378312\n",
      "std        0.741372\n",
      "min       11.695255\n",
      "25%       12.899222\n",
      "50%       13.458837\n",
      "75%       13.764218\n",
      "max       14.930652\n",
      "Name: log_avg_salary, dtype: float64\n"
     ]
    }
   ],
   "source": [
    "print(df['log_avg_salary'].describe())"
   ]
  },
  {
   "cell_type": "code",
   "execution_count": 19,
   "metadata": {},
   "outputs": [],
   "source": [
    "X_train, X_test, y_train, y_test = train_test_split(X, y, test_size=0.2, random_state=42)"
   ]
  },
  {
   "cell_type": "code",
   "execution_count": 20,
   "metadata": {},
   "outputs": [],
   "source": [
    "numerical_columns = ['Rating', 'Age']\n",
    "\n",
    "sc = StandardScaler()\n",
    "X_train[numerical_columns] = sc.fit_transform(X_train[numerical_columns].copy())\n",
    "X_test[numerical_columns] = sc.transform(X_test[numerical_columns].copy())"
   ]
  },
  {
   "cell_type": "code",
   "execution_count": 21,
   "metadata": {},
   "outputs": [
    {
     "name": "stdout",
     "output_type": "stream",
     "text": [
      "Fitting 5 folds for each of 20 candidates, totalling 100 fits\n",
      "Best Parameters: {'alpha': 0.1, 'l1_ratio': 0.1}\n",
      "Mean Squared Error: 0.1324\n"
     ]
    }
   ],
   "source": [
    "model = ElasticNet()\n",
    "\n",
    "# Define the parameter grid for hyperparameter tuning\n",
    "param_grid = {\n",
    "    'alpha': [0.1, 0.5, 1.0, 1.5, 2.0],\n",
    "    'l1_ratio': [0.1, 0.5, 0.9, 1.0]  # 1.0 is Lasso, 0 is Ridge\n",
    "}\n",
    "\n",
    "# Set up GridSearchCV for 5-fold cross-validation\n",
    "grid_search = GridSearchCV(estimator=model, param_grid=param_grid, \n",
    "                           scoring='neg_mean_squared_error', cv=5, \n",
    "                           verbose=1, n_jobs=-1)\n",
    "\n",
    "# Fit the model using GridSearchCV\n",
    "grid_search.fit(X_train, y_train)\n",
    "\n",
    "# Get the best parameters and the best model\n",
    "best_params = grid_search.best_params_\n",
    "best_model = grid_search.best_estimator_\n",
    "\n",
    "# Make predictions using the best model\n",
    "y_pred = best_model.predict(X_test)\n",
    "\n",
    "# Calculate Mean Squared Error\n",
    "mse = mean_squared_error(y_test, y_pred)\n",
    "print(f\"Best Parameters: {best_params}\")\n",
    "print(f\"Mean Squared Error: {mse:.4f}\")"
   ]
  },
  {
   "cell_type": "code",
   "execution_count": 22,
   "metadata": {},
   "outputs": [
    {
     "data": {
      "image/png": "[encoded data removed]",
      "text/plain": [
       "<Figure size 800x600 with 1 Axes>"
      ]
     },
     "metadata": {},
     "output_type": "display_data"
    }
   ],
   "source": [
    "import matplotlib.pyplot as plt\n",
    "\n",
    "plt.figure(figsize=(8, 6))\n",
    "plt.scatter(y_test, y_pred, alpha=0.6)\n",
    "plt.plot([y_test.min(), y_test.max()], [y_test.min(), y_test.max()], 'k--', lw=2)\n",
    "plt.xlabel('Actual Values')\n",
    "plt.ylabel('Predicted Values')\n",
    "plt.title('Actual vs. Predicted Values')\n",
    "plt.show()\n",
    "\n"
   ]
  }
 ],
 "metadata": {
  "kernelspec": {
   "display_name": "myenv",
   "language": "python",
   "name": "python3"
  },
  "language_info": {
   "codemirror_mode": {
    "name": "ipython",
    "version": 3
   },
   "file_extension": ".py",
   "mimetype": "text/x-python",
   "name": "python",
   "nbconvert_exporter": "python",
   "pygments_lexer": "ipython3",
   "version": "3.10.13"
  }
 },
 "nbformat": 4,
 "nbformat_minor": 2
}

{
 "cells": [
  {
   "cell_type": "code",
   "execution_count": 47,
   "metadata": {},
   "outputs": [],
   "source": [
    "import pandas as pd\n",
    "import numpy as np"
   ]
  },
  {
   "cell_type": "code",
   "execution_count": 48,
   "metadata": {},
   "outputs": [
    {
     "data": {
      "text/html": [
       "<div>\n",
       "<style scoped>\n",
       "    .dataframe tbody tr th:only-of-type {\n",
       "        vertical-align: middle;\n",
       "    }\n",
       "\n",
       "    .dataframe tbody tr th {\n",
       "        vertical-align: top;\n",
       "    }\n",
       "\n",
       "    .dataframe thead th {\n",
       "        text-align: right;\n",
       "    }\n",
       "</style>\n",
       "<table border=\"1\" class=\"dataframe\">\n",
       "  <thead>\n",
       "    <tr style=\"text-align: right;\">\n",
       "      <th></th>\n",
       "      <th>Rating</th>\n",
       "      <th>Company Name</th>\n",
       "      <th>Location</th>\n",
       "      <th>Industry</th>\n",
       "      <th>Sector</th>\n",
       "      <th>job_simp</th>\n",
       "      <th>seniority</th>\n",
       "      <th>avg_salary</th>\n",
       "      <th>Size_Upper</th>\n",
       "      <th>Age</th>\n",
       "      <th>Ownership</th>\n",
       "      <th>Revenue_Upper</th>\n",
       "    </tr>\n",
       "  </thead>\n",
       "  <tbody>\n",
       "    <tr>\n",
       "      <th>0</th>\n",
       "      <td>4.2</td>\n",
       "      <td>Boston Consulting Group</td>\n",
       "      <td>Gurgaon</td>\n",
       "      <td>Business consulting</td>\n",
       "      <td>Management and consulting</td>\n",
       "      <td>data scientist</td>\n",
       "      <td>senior</td>\n",
       "      <td>750000.0</td>\n",
       "      <td>large</td>\n",
       "      <td>61.0</td>\n",
       "      <td>private</td>\n",
       "      <td>med</td>\n",
       "    </tr>\n",
       "    <tr>\n",
       "      <th>1</th>\n",
       "      <td>3.8</td>\n",
       "      <td>Expedia Partner Solutions</td>\n",
       "      <td>Gurgaon</td>\n",
       "      <td>Internet &amp; Web Services</td>\n",
       "      <td>Information Technology</td>\n",
       "      <td>ML engineer</td>\n",
       "      <td>senior</td>\n",
       "      <td>900000.0</td>\n",
       "      <td>large</td>\n",
       "      <td>28.0</td>\n",
       "      <td>publlic</td>\n",
       "      <td>med</td>\n",
       "    </tr>\n",
       "    <tr>\n",
       "      <th>2</th>\n",
       "      <td>3.9</td>\n",
       "      <td>Barclays</td>\n",
       "      <td>Chennai</td>\n",
       "      <td>Banking &amp; Lending</td>\n",
       "      <td>Finance</td>\n",
       "      <td>data scientist</td>\n",
       "      <td>Unknown</td>\n",
       "      <td>950000.0</td>\n",
       "      <td>large</td>\n",
       "      <td>334.0</td>\n",
       "      <td>publlic</td>\n",
       "      <td>high</td>\n",
       "    </tr>\n",
       "    <tr>\n",
       "      <th>3</th>\n",
       "      <td>NaN</td>\n",
       "      <td>Excellent Opportunity</td>\n",
       "      <td>Remote</td>\n",
       "      <td>Unknown</td>\n",
       "      <td>Unknown</td>\n",
       "      <td>data scientist</td>\n",
       "      <td>Unknown</td>\n",
       "      <td>3050000.0</td>\n",
       "      <td>Unknown</td>\n",
       "      <td>NaN</td>\n",
       "      <td>Unknown</td>\n",
       "      <td>Unknown</td>\n",
       "    </tr>\n",
       "    <tr>\n",
       "      <th>4</th>\n",
       "      <td>NaN</td>\n",
       "      <td>IPCS Global solutions pvt ltd</td>\n",
       "      <td>India</td>\n",
       "      <td>Unknown</td>\n",
       "      <td>Unknown</td>\n",
       "      <td>Unknown</td>\n",
       "      <td>Unknown</td>\n",
       "      <td>126000.0</td>\n",
       "      <td>Unknown</td>\n",
       "      <td>NaN</td>\n",
       "      <td>Unknown</td>\n",
       "      <td>Unknown</td>\n",
       "    </tr>\n",
       "  </tbody>\n",
       "</table>\n",
       "</div>"
      ],
      "text/plain": [
       "   Rating                   Company Name Location                 Industry  \\\n",
       "0     4.2        Boston Consulting Group  Gurgaon      Business consulting   \n",
       "1     3.8      Expedia Partner Solutions  Gurgaon  Internet & Web Services   \n",
       "2     3.9                       Barclays  Chennai        Banking & Lending   \n",
       "3     NaN          Excellent Opportunity   Remote                  Unknown   \n",
       "4     NaN  IPCS Global solutions pvt ltd    India                  Unknown   \n",
       "\n",
       "                      Sector        job_simp seniority  avg_salary Size_Upper  \\\n",
       "0  Management and consulting  data scientist    senior    750000.0      large   \n",
       "1     Information Technology     ML engineer    senior    900000.0      large   \n",
       "2                    Finance  data scientist   Unknown    950000.0      large   \n",
       "3                    Unknown  data scientist   Unknown   3050000.0    Unknown   \n",
       "4                    Unknown         Unknown   Unknown    126000.0    Unknown   \n",
       "\n",
       "     Age Ownership Revenue_Upper  \n",
       "0   61.0   private           med  \n",
       "1   28.0   publlic           med  \n",
       "2  334.0   publlic          high  \n",
       "3    NaN   Unknown       Unknown  \n",
       "4    NaN   Unknown       Unknown  "
      ]
     },
     "execution_count": 48,
     "metadata": {},
     "output_type": "execute_result"
    }
   ],
   "source": [
    "df=pd.read_csv('../artifacts/data_clean.csv')\n",
    "df.head()"
   ]
  },
  {
   "cell_type": "code",
   "execution_count": 49,
   "metadata": {},
   "outputs": [
    {
     "data": {
      "text/plain": [
       "Index(['Rating', 'Company Name', 'Location', 'Industry', 'Sector', 'job_simp',\n",
       "       'seniority', 'avg_salary', 'Size_Upper', 'Age', 'Ownership',\n",
       "       'Revenue_Upper'],\n",
       "      dtype='object')"
      ]
     },
     "execution_count": 49,
     "metadata": {},
     "output_type": "execute_result"
    }
   ],
   "source": [
    "df.columns"
   ]
  },
  {
   "cell_type": "code",
   "execution_count": 50,
   "metadata": {},
   "outputs": [
    {
     "data": {
      "text/plain": [
       "Rating           float64\n",
       "Company Name      object\n",
       "Location          object\n",
       "Industry          object\n",
       "Sector            object\n",
       "job_simp          object\n",
       "seniority         object\n",
       "avg_salary       float64\n",
       "Size_Upper        object\n",
       "Age              float64\n",
       "Ownership         object\n",
       "Revenue_Upper     object\n",
       "dtype: object"
      ]
     },
     "execution_count": 50,
     "metadata": {},
     "output_type": "execute_result"
    }
   ],
   "source": [
    "df.dtypes"
   ]
  },
  {
   "cell_type": "code",
   "execution_count": 51,
   "metadata": {},
   "outputs": [],
   "source": [
    "num_features = ['Rating', 'Age']\n",
    "cat_features = ['Company Name', 'Location', 'Ownership', 'Industry', 'Sector', 'job_simp', 'seniority','Revenue_Upper','Size_Upper']"
   ]
  },
  {
   "cell_type": "code",
   "execution_count": 52,
   "metadata": {},
   "outputs": [],
   "source": [
    "for col in num_features:\n",
    "    df[col] = pd.to_numeric(df[col], errors='coerce')\n",
    "\n",
    "for col in cat_features:\n",
    "    df[col] = df[col].astype('category')"
   ]
  },
  {
   "cell_type": "code",
   "execution_count": 53,
   "metadata": {},
   "outputs": [
    {
     "data": {
      "text/plain": [
       "Rating            float64\n",
       "Company Name     category\n",
       "Location         category\n",
       "Industry         category\n",
       "Sector           category\n",
       "job_simp         category\n",
       "seniority        category\n",
       "avg_salary        float64\n",
       "Size_Upper       category\n",
       "Age               float64\n",
       "Ownership        category\n",
       "Revenue_Upper    category\n",
       "dtype: object"
      ]
     },
     "execution_count": 53,
     "metadata": {},
     "output_type": "execute_result"
    }
   ],
   "source": [
    "df.dtypes"
   ]
  },
  {
   "cell_type": "code",
   "execution_count": 54,
   "metadata": {},
   "outputs": [
    {
     "data": {
      "text/plain": [
       "Revenue_Upper\n",
       "Unknown    429\n",
       "high       166\n",
       "low        101\n",
       "med        101\n",
       "Name: count, dtype: int64"
      ]
     },
     "execution_count": 54,
     "metadata": {},
     "output_type": "execute_result"
    }
   ],
   "source": [
    "df['Revenue_Upper'].value_counts()"
   ]
  },
  {
   "cell_type": "code",
   "execution_count": 55,
   "metadata": {},
   "outputs": [
    {
     "data": {
      "text/plain": [
       "seniority\n",
       "Unknown    696\n",
       "senior      68\n",
       "junior      33\n",
       "Name: count, dtype: int64"
      ]
     },
     "execution_count": 55,
     "metadata": {},
     "output_type": "execute_result"
    }
   ],
   "source": [
    "df['seniority'].value_counts()"
   ]
  },
  {
   "cell_type": "code",
   "execution_count": 56,
   "metadata": {},
   "outputs": [
    {
     "data": {
      "text/plain": [
       "Rating           265\n",
       "Company Name       0\n",
       "Location           0\n",
       "Industry           0\n",
       "Sector             0\n",
       "job_simp           0\n",
       "seniority          0\n",
       "avg_salary         0\n",
       "Size_Upper         0\n",
       "Age              364\n",
       "Ownership          0\n",
       "Revenue_Upper      0\n",
       "dtype: int64"
      ]
     },
     "execution_count": 56,
     "metadata": {},
     "output_type": "execute_result"
    }
   ],
   "source": [
    "df.isna().sum()"
   ]
  },
  {
   "cell_type": "code",
   "execution_count": 57,
   "metadata": {},
   "outputs": [
    {
     "name": "stderr",
     "output_type": "stream",
     "text": [
      "C:\\Users\\sathv\\AppData\\Local\\Temp\\ipykernel_1392\\3751792375.py:3: FutureWarning: A value is trying to be set on a copy of a DataFrame or Series through chained assignment using an inplace method.\n",
      "The behavior will change in pandas 3.0. This inplace method will never work because the intermediate object on which we are setting values always behaves as a copy.\n",
      "\n",
      "For example, when doing 'df[col].method(value, inplace=True)', try using 'df.method({col: value}, inplace=True)' or df[col] = df[col].method(value) instead, to perform the operation inplace on the original object.\n",
      "\n",
      "\n",
      "  df[col].fillna(df[col].mean(), inplace=True)\n"
     ]
    }
   ],
   "source": [
    "# Fill missing values in numeric columns with the mean\n",
    "for col in num_features:\n",
    "    df[col].fillna(df[col].mean(), inplace=True)\n",
    "    df[col] = df[col].round(2)"
   ]
  },
  {
   "cell_type": "code",
   "execution_count": 58,
   "metadata": {},
   "outputs": [
    {
     "data": {
      "text/plain": [
       "Rating           0\n",
       "Company Name     0\n",
       "Location         0\n",
       "Industry         0\n",
       "Sector           0\n",
       "job_simp         0\n",
       "seniority        0\n",
       "avg_salary       0\n",
       "Size_Upper       0\n",
       "Age              0\n",
       "Ownership        0\n",
       "Revenue_Upper    0\n",
       "dtype: int64"
      ]
     },
     "execution_count": 58,
     "metadata": {},
     "output_type": "execute_result"
    }
   ],
   "source": [
    "df.isna().sum()"
   ]
  },
  {
   "cell_type": "code",
   "execution_count": 59,
   "metadata": {},
   "outputs": [],
   "source": [
    "from sklearn.preprocessing import OneHotEncoder\n",
    "\n",
    "onehot_encoder = OneHotEncoder(sparse_output=False,drop='first')\n",
    "\n",
    "encoded_features = onehot_encoder.fit_transform(df[cat_features])\n",
    "\n",
    "# Create a DataFrame with the encoded features\n",
    "encoded_df = pd.DataFrame(encoded_features, columns=onehot_encoder.get_feature_names_out(cat_features))\n",
    "\n",
    "# Concatenate with the original DataFrame\n",
    "df = pd.concat([df.drop(columns=cat_features), encoded_df], axis=1)"
   ]
  },
  {
   "cell_type": "code",
   "execution_count": 60,
   "metadata": {},
   "outputs": [
    {
     "data": {
      "text/html": [
       "<div>\n",
       "<style scoped>\n",
       "    .dataframe tbody tr th:only-of-type {\n",
       "        vertical-align: middle;\n",
       "    }\n",
       "\n",
       "    .dataframe tbody tr th {\n",
       "        vertical-align: top;\n",
       "    }\n",
       "\n",
       "    .dataframe thead th {\n",
       "        text-align: right;\n",
       "    }\n",
       "</style>\n",
       "<table border=\"1\" class=\"dataframe\">\n",
       "  <thead>\n",
       "    <tr style=\"text-align: right;\">\n",
       "      <th></th>\n",
       "      <th>Rating</th>\n",
       "      <th>avg_salary</th>\n",
       "      <th>Age</th>\n",
       "      <th>Company Name_Accusaga</th>\n",
       "      <th>Company Name_Applied Materials</th>\n",
       "      <th>Company Name_Arch Systems, LLC</th>\n",
       "      <th>Company Name_Barclays</th>\n",
       "      <th>Company Name_Blackcoffer (OPC) Pvt. Ltd</th>\n",
       "      <th>Company Name_Boston Consulting Group</th>\n",
       "      <th>Company Name_Drimlite</th>\n",
       "      <th>...</th>\n",
       "      <th>job_simp_manager</th>\n",
       "      <th>seniority_junior</th>\n",
       "      <th>seniority_senior</th>\n",
       "      <th>Revenue_Upper_high</th>\n",
       "      <th>Revenue_Upper_low</th>\n",
       "      <th>Revenue_Upper_med</th>\n",
       "      <th>Size_Upper_high</th>\n",
       "      <th>Size_Upper_large</th>\n",
       "      <th>Size_Upper_low</th>\n",
       "      <th>Size_Upper_med</th>\n",
       "    </tr>\n",
       "  </thead>\n",
       "  <tbody>\n",
       "    <tr>\n",
       "      <th>0</th>\n",
       "      <td>4.20</td>\n",
       "      <td>750000.0</td>\n",
       "      <td>61.00</td>\n",
       "      <td>0.0</td>\n",
       "      <td>0.0</td>\n",
       "      <td>0.0</td>\n",
       "      <td>0.0</td>\n",
       "      <td>0.0</td>\n",
       "      <td>1.0</td>\n",
       "      <td>0.0</td>\n",
       "      <td>...</td>\n",
       "      <td>0.0</td>\n",
       "      <td>0.0</td>\n",
       "      <td>1.0</td>\n",
       "      <td>0.0</td>\n",
       "      <td>0.0</td>\n",
       "      <td>1.0</td>\n",
       "      <td>0.0</td>\n",
       "      <td>1.0</td>\n",
       "      <td>0.0</td>\n",
       "      <td>0.0</td>\n",
       "    </tr>\n",
       "    <tr>\n",
       "      <th>1</th>\n",
       "      <td>3.80</td>\n",
       "      <td>900000.0</td>\n",
       "      <td>28.00</td>\n",
       "      <td>0.0</td>\n",
       "      <td>0.0</td>\n",
       "      <td>0.0</td>\n",
       "      <td>0.0</td>\n",
       "      <td>0.0</td>\n",
       "      <td>0.0</td>\n",
       "      <td>0.0</td>\n",
       "      <td>...</td>\n",
       "      <td>0.0</td>\n",
       "      <td>0.0</td>\n",
       "      <td>1.0</td>\n",
       "      <td>0.0</td>\n",
       "      <td>0.0</td>\n",
       "      <td>1.0</td>\n",
       "      <td>0.0</td>\n",
       "      <td>1.0</td>\n",
       "      <td>0.0</td>\n",
       "      <td>0.0</td>\n",
       "    </tr>\n",
       "    <tr>\n",
       "      <th>2</th>\n",
       "      <td>3.90</td>\n",
       "      <td>950000.0</td>\n",
       "      <td>334.00</td>\n",
       "      <td>0.0</td>\n",
       "      <td>0.0</td>\n",
       "      <td>0.0</td>\n",
       "      <td>1.0</td>\n",
       "      <td>0.0</td>\n",
       "      <td>0.0</td>\n",
       "      <td>0.0</td>\n",
       "      <td>...</td>\n",
       "      <td>0.0</td>\n",
       "      <td>0.0</td>\n",
       "      <td>0.0</td>\n",
       "      <td>1.0</td>\n",
       "      <td>0.0</td>\n",
       "      <td>0.0</td>\n",
       "      <td>0.0</td>\n",
       "      <td>1.0</td>\n",
       "      <td>0.0</td>\n",
       "      <td>0.0</td>\n",
       "    </tr>\n",
       "    <tr>\n",
       "      <th>3</th>\n",
       "      <td>4.09</td>\n",
       "      <td>3050000.0</td>\n",
       "      <td>84.32</td>\n",
       "      <td>0.0</td>\n",
       "      <td>0.0</td>\n",
       "      <td>0.0</td>\n",
       "      <td>0.0</td>\n",
       "      <td>0.0</td>\n",
       "      <td>0.0</td>\n",
       "      <td>0.0</td>\n",
       "      <td>...</td>\n",
       "      <td>0.0</td>\n",
       "      <td>0.0</td>\n",
       "      <td>0.0</td>\n",
       "      <td>0.0</td>\n",
       "      <td>0.0</td>\n",
       "      <td>0.0</td>\n",
       "      <td>0.0</td>\n",
       "      <td>0.0</td>\n",
       "      <td>0.0</td>\n",
       "      <td>0.0</td>\n",
       "    </tr>\n",
       "    <tr>\n",
       "      <th>4</th>\n",
       "      <td>4.09</td>\n",
       "      <td>126000.0</td>\n",
       "      <td>84.32</td>\n",
       "      <td>0.0</td>\n",
       "      <td>0.0</td>\n",
       "      <td>0.0</td>\n",
       "      <td>0.0</td>\n",
       "      <td>0.0</td>\n",
       "      <td>0.0</td>\n",
       "      <td>0.0</td>\n",
       "      <td>...</td>\n",
       "      <td>0.0</td>\n",
       "      <td>0.0</td>\n",
       "      <td>0.0</td>\n",
       "      <td>0.0</td>\n",
       "      <td>0.0</td>\n",
       "      <td>0.0</td>\n",
       "      <td>0.0</td>\n",
       "      <td>0.0</td>\n",
       "      <td>0.0</td>\n",
       "      <td>0.0</td>\n",
       "    </tr>\n",
       "  </tbody>\n",
       "</table>\n",
       "<p>5 rows × 67 columns</p>\n",
       "</div>"
      ],
      "text/plain": [
       "   Rating  avg_salary     Age  Company Name_Accusaga  \\\n",
       "0    4.20    750000.0   61.00                    0.0   \n",
       "1    3.80    900000.0   28.00                    0.0   \n",
       "2    3.90    950000.0  334.00                    0.0   \n",
       "3    4.09   3050000.0   84.32                    0.0   \n",
       "4    4.09    126000.0   84.32                    0.0   \n",
       "\n",
       "   Company Name_Applied Materials  Company Name_Arch Systems, LLC  \\\n",
       "0                             0.0                             0.0   \n",
       "1                             0.0                             0.0   \n",
       "2                             0.0                             0.0   \n",
       "3                             0.0                             0.0   \n",
       "4                             0.0                             0.0   \n",
       "\n",
       "   Company Name_Barclays  Company Name_Blackcoffer (OPC) Pvt. Ltd  \\\n",
       "0                    0.0                                      0.0   \n",
       "1                    0.0                                      0.0   \n",
       "2                    1.0                                      0.0   \n",
       "3                    0.0                                      0.0   \n",
       "4                    0.0                                      0.0   \n",
       "\n",
       "   Company Name_Boston Consulting Group  Company Name_Drimlite  ...  \\\n",
       "0                                   1.0                    0.0  ...   \n",
       "1                                   0.0                    0.0  ...   \n",
       "2                                   0.0                    0.0  ...   \n",
       "3                                   0.0                    0.0  ...   \n",
       "4                                   0.0                    0.0  ...   \n",
       "\n",
       "   job_simp_manager  seniority_junior  seniority_senior  Revenue_Upper_high  \\\n",
       "0               0.0               0.0               1.0                 0.0   \n",
       "1               0.0               0.0               1.0                 0.0   \n",
       "2               0.0               0.0               0.0                 1.0   \n",
       "3               0.0               0.0               0.0                 0.0   \n",
       "4               0.0               0.0               0.0                 0.0   \n",
       "\n",
       "   Revenue_Upper_low  Revenue_Upper_med  Size_Upper_high  Size_Upper_large  \\\n",
       "0                0.0                1.0              0.0               1.0   \n",
       "1                0.0                1.0              0.0               1.0   \n",
       "2                0.0                0.0              0.0               1.0   \n",
       "3                0.0                0.0              0.0               0.0   \n",
       "4                0.0                0.0              0.0               0.0   \n",
       "\n",
       "   Size_Upper_low  Size_Upper_med  \n",
       "0             0.0             0.0  \n",
       "1             0.0             0.0  \n",
       "2             0.0             0.0  \n",
       "3             0.0             0.0  \n",
       "4             0.0             0.0  \n",
       "\n",
       "[5 rows x 67 columns]"
      ]
     },
     "execution_count": 60,
     "metadata": {},
     "output_type": "execute_result"
    }
   ],
   "source": [
    "df.head()"
   ]
  },
  {
   "cell_type": "code",
   "execution_count": 61,
   "metadata": {},
   "outputs": [],
   "source": [
    "import matplotlib.pyplot as plt"
   ]
  },
  {
   "cell_type": "code",
   "execution_count": 62,
   "metadata": {},
   "outputs": [
    {
     "name": "stdout",
     "output_type": "stream",
     "text": [
      "count    7.970000e+02\n",
      "mean     8.012974e+05\n",
      "std      6.414229e+05\n",
      "min      6.250000e+04\n",
      "25%      4.000000e+05\n",
      "50%      7.000000e+05\n",
      "75%      9.500000e+05\n",
      "max      3.050000e+06\n",
      "Name: avg_salary, dtype: float64\n"
     ]
    }
   ],
   "source": [
    "print(df['avg_salary'].describe())"
   ]
  },
  {
   "cell_type": "code",
   "execution_count": 63,
   "metadata": {},
   "outputs": [
    {
     "data": {
      "image/png": "[encoded data removed]",
      "text/plain": [
       "<Figure size 640x480 with 1 Axes>"
      ]
     },
     "metadata": {},
     "output_type": "display_data"
    }
   ],
   "source": [
    "plt.hist(df['avg_salary'], bins=50)\n",
    "plt.title('Distribution of avg_salary')\n",
    "plt.show()"
   ]
  },
  {
   "cell_type": "code",
   "execution_count": 64,
   "metadata": {},
   "outputs": [
    {
     "data": {
      "text/plain": [
       "<Axes: ylabel='avg_salary'>"
      ]
     },
     "execution_count": 64,
     "metadata": {},
     "output_type": "execute_result"
    },
    {
     "data": {
      "image/png": "[encoded data removed]",
      "text/plain": [
       "<Figure size 800x600 with 1 Axes>"
      ]
     },
     "metadata": {},
     "output_type": "display_data"
    }
   ],
   "source": [
    "import seaborn as sns\n",
    "\n",
    "plt.figure(figsize=(8, 6))\n",
    "sns.boxplot(df['avg_salary'])"
   ]
  },
  {
   "cell_type": "code",
   "execution_count": 65,
   "metadata": {},
   "outputs": [],
   "source": [
    "df['log_avg_salary'] = np.log(df['avg_salary'] + 1)"
   ]
  },
  {
   "cell_type": "code",
   "execution_count": 66,
   "metadata": {},
   "outputs": [],
   "source": [
    "from scipy import stats\n",
    "import numpy as np\n",
    "\n",
    "z_scores = stats.zscore(df['log_avg_salary'])\n",
    "df = df[np.abs(z_scores) <= 2]"
   ]
  },
  {
   "cell_type": "code",
   "execution_count": 67,
   "metadata": {},
   "outputs": [
    {
     "data": {
      "image/png": "[encoded data removed]",
      "text/plain": [
       "<Figure size 640x480 with 1 Axes>"
      ]
     },
     "metadata": {},
     "output_type": "display_data"
    }
   ],
   "source": [
    "plt.hist(df['log_avg_salary'], bins=50)\n",
    "plt.title('Distribution of avg_salary')\n",
    "plt.show()"
   ]
  },
  {
   "cell_type": "code",
   "execution_count": 68,
   "metadata": {},
   "outputs": [
    {
     "data": {
      "text/plain": [
       "<Axes: ylabel='log_avg_salary'>"
      ]
     },
     "execution_count": 68,
     "metadata": {},
     "output_type": "execute_result"
    },
    {
     "data": {
      "image/png": "[encoded data removed]",
      "text/plain": [
       "<Figure size 800x600 with 1 Axes>"
      ]
     },
     "metadata": {},
     "output_type": "display_data"
    }
   ],
   "source": [
    "import seaborn as sns\n",
    "\n",
    "# Boxplot before removing outliers\n",
    "plt.figure(figsize=(8, 6))\n",
    "sns.boxplot(df['log_avg_salary'])"
   ]
  },
  {
   "cell_type": "code",
   "execution_count": 69,
   "metadata": {},
   "outputs": [],
   "source": [
    "df=df.drop('avg_salary',axis=1)"
   ]
  },
  {
   "cell_type": "code",
   "execution_count": 70,
   "metadata": {},
   "outputs": [],
   "source": [
    "df.to_csv(\"../artifacts/data_transform.csv\", index=False)"
   ]
  }
 ],
 "metadata": {
  "kernelspec": {
   "display_name": "myenv",
   "language": "python",
   "name": "python3"
  },
  "language_info": {
   "codemirror_mode": {
    "name": "ipython",
    "version": 3
   },
   "file_extension": ".py",
   "mimetype": "text/x-python",
   "name": "python",
   "nbconvert_exporter": "python",
   "pygments_lexer": "ipython3",
   "version": "3.10.13"
  }
 },
 "nbformat": 4,
 "nbformat_minor": 2
}
